{
 "cells": [
  {
   "cell_type": "code",
   "execution_count": 1,
   "id": "10b47507-edb2-4bf6-ad56-ad51013ae352",
   "metadata": {},
   "outputs": [],
   "source": [
    "import requests\n",
    "url = \"https://stockanalysis.com/stocks/gme/revenue/\"\n",
    "response = requests.get(url)\n",
    "html_data = response.text\n"
   ]
  },
  {
   "cell_type": "code",
   "execution_count": 2,
   "id": "06c547f4-87c5-49f3-9c9d-bf5d692ff1f2",
   "metadata": {},
   "outputs": [],
   "source": [
    "from bs4 import BeautifulSoup\n",
    "soup = BeautifulSoup(html_data,'html.parser')\n",
    "table = soup.find_all('table')[0]"
   ]
  },
  {
   "cell_type": "code",
   "execution_count": 3,
   "id": "59a12371-120c-4fcd-b44b-fde1ca771a87",
   "metadata": {},
   "outputs": [
    {
     "name": "stdout",
     "output_type": "stream",
     "text": [
      "           Date Revenue\n",
      "0   Feb 3, 2024   5.27B\n",
      "1  Jan 28, 2023   5.93B\n",
      "2  Jan 29, 2022   6.01B\n",
      "3  Jan 30, 2021   5.09B\n",
      "4   Feb 1, 2020   6.47B\n",
      "5   Feb 2, 2019     Pro\n",
      "6   Feb 3, 2018     Pro\n",
      "7  Jan 28, 2017     Pro\n",
      "8  Jan 30, 2016     Pro\n",
      "9  Jan 31, 2015     Pro\n"
     ]
    }
   ],
   "source": [
    "import pandas as pd\n",
    "data = []\n",
    "rows = table.find_all('tr')\n",
    "for row in rows[1:]:\n",
    "    cols = row.find_all('td')\n",
    "    date = cols[0].text.strip()\n",
    "    revenue = cols[1].text.strip()\n",
    "    data.append([date, revenue])\n",
    "df = pd.DataFrame(data, columns=['Date', 'Revenue'])\n",
    "print(df.tail(10))    "
   ]
  },
  {
   "cell_type": "code",
   "execution_count": null,
   "id": "96ddc66d-adf6-4eac-9a16-162bcc77a9f1",
   "metadata": {},
   "outputs": [],
   "source": []
  }
 ],
 "metadata": {
  "kernelspec": {
   "display_name": "Python 3 (ipykernel)",
   "language": "python",
   "name": "python3"
  },
  "language_info": {
   "codemirror_mode": {
    "name": "ipython",
    "version": 3
   },
   "file_extension": ".py",
   "mimetype": "text/x-python",
   "name": "python",
   "nbconvert_exporter": "python",
   "pygments_lexer": "ipython3",
   "version": "3.12.6"
  }
 },
 "nbformat": 4,
 "nbformat_minor": 5
}
